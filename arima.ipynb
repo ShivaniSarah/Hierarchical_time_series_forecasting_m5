{
 "cells": [
  {
   "cell_type": "code",
   "execution_count": 1,
   "id": "e4d6e78e-5374-4fea-9d5d-079fe45114e1",
   "metadata": {},
   "outputs": [],
   "source": [
    "import os\n",
    "import pandas as pd\n",
    "import warnings\n",
    "warnings.filterwarnings('ignore')\n",
    "import numpy as np\n",
    "import matplotlib.pyplot as plt\n",
    "import random\n",
    "import gc"
   ]
  },
  {
   "cell_type": "code",
   "execution_count": 2,
   "id": "4a078f87-82d1-477a-8b49-0bd79136109b",
   "metadata": {},
   "outputs": [],
   "source": [
    "base_path = '/home/data/m5/'"
   ]
  },
  {
   "cell_type": "code",
   "execution_count": 3,
   "id": "3446b62b-3204-4f16-a74b-6c831f7e2f46",
   "metadata": {},
   "outputs": [
    {
     "name": "stdout",
     "output_type": "stream",
     "text": [
      "CPU times: user 4.94 s, sys: 574 ms, total: 5.52 s\n",
      "Wall time: 5.52 s\n"
     ]
    }
   ],
   "source": [
    "%%time\n",
    "calendar = pd.read_csv(f\"{base_path}calendar.csv\")\n",
    "df = pd.read_csv(f'{base_path}sales_train_validation.csv')\n",
    "sell_prices = pd.read_csv(f\"{base_path}sell_prices.csv\")\n",
    "sample_sub = pd.read_csv(f\"{base_path}sample_submission.csv\")"
   ]
  },
  {
   "cell_type": "code",
   "execution_count": 4,
   "id": "2be05fbc-a549-4407-85dd-4f03cb9f4522",
   "metadata": {},
   "outputs": [],
   "source": [
    "# Melt the data to get it in long format\n",
    "df = df.melt(id_vars=[\"id\", \"item_id\", \"dept_id\", \"cat_id\", \"store_id\", \"state_id\"], \n",
    "             var_name=\"d\", \n",
    "             value_name=\"sales\")\n",
    "\n",
    "# Filter for a single time series\n",
    "# Change these IDs to the IDs of the store and item you're interested in\n",
    "df = df[(df['store_id'] == 'CA_1') & (df['item_id'] == 'HOBBIES_1_001')]"
   ]
  },
  {
   "cell_type": "code",
   "execution_count": 5,
   "id": "51a95a39-2b0d-4afd-846c-7c36c3aa0ed4",
   "metadata": {},
   "outputs": [],
   "source": [
    "# Load calendar data\n",
    "\n",
    "# Merge calendar data with main data\n",
    "df = df.merge(calendar, how='left', validate='many_to_one')\n",
    "\n",
    "# Convert date to datetime format and set as index\n",
    "df['date'] = pd.to_datetime(df['date'])\n",
    "df.set_index('date', inplace=True)"
   ]
  },
  {
   "cell_type": "code",
   "execution_count": 6,
   "id": "774a4b67-0613-434e-833e-5dbe4ef29cd6",
   "metadata": {},
   "outputs": [
    {
     "name": "stdout",
     "output_type": "stream",
     "text": [
      "id                 0\n",
      "item_id            0\n",
      "dept_id            0\n",
      "cat_id             0\n",
      "store_id           0\n",
      "state_id           0\n",
      "d                  0\n",
      "sales              0\n",
      "wm_yr_wk           0\n",
      "weekday            0\n",
      "wday               0\n",
      "month              0\n",
      "year               0\n",
      "event_name_1    1759\n",
      "event_type_1    1759\n",
      "event_name_2    1909\n",
      "event_type_2    1909\n",
      "snap_CA            0\n",
      "snap_TX            0\n",
      "snap_WI            0\n",
      "dtype: int64\n"
     ]
    }
   ],
   "source": [
    "print(df.isnull().sum())"
   ]
  },
  {
   "cell_type": "code",
   "execution_count": 8,
   "id": "75c35d60-deba-4d22-a1b0-e6e12b7d91ae",
   "metadata": {},
   "outputs": [],
   "source": [
    "df = df.fillna(method='ffill')"
   ]
  },
  {
   "cell_type": "code",
   "execution_count": 9,
   "id": "691aa7cc-0df4-42cc-a72e-312d66c43f13",
   "metadata": {},
   "outputs": [
    {
     "name": "stdout",
     "output_type": "stream",
     "text": [
      "ADF Statistic: -2.117796\n",
      "p-value: 0.237419\n"
     ]
    }
   ],
   "source": [
    "from statsmodels.tsa.stattools import adfuller\n",
    "\n",
    "def check_stationarity(timeseries):\n",
    "    result = adfuller(timeseries)\n",
    "    print('ADF Statistic: %f' % result[0])\n",
    "    print('p-value: %f' % result[1])\n",
    "\n",
    "check_stationarity(df['sales'])"
   ]
  },
  {
   "cell_type": "code",
   "execution_count": 14,
   "id": "6248d98d-31cb-40d3-9671-2d83e2a56cb8",
   "metadata": {},
   "outputs": [],
   "source": [
    "df = df.dropna()"
   ]
  },
  {
   "cell_type": "code",
   "execution_count": 15,
   "id": "4e833dfb-bf98-4f89-97db-ff26c4a0ac14",
   "metadata": {},
   "outputs": [
    {
     "name": "stdout",
     "output_type": "stream",
     "text": [
      "ADF Statistic: -17.544948\n",
      "p-value: 0.000000\n"
     ]
    }
   ],
   "source": [
    "check_stationarity(df['sales'])"
   ]
  },
  {
   "cell_type": "code",
   "execution_count": 16,
   "id": "d99ea8ed-9818-47ee-aeb2-4349c39804e5",
   "metadata": {},
   "outputs": [
    {
     "name": "stdout",
     "output_type": "stream",
     "text": [
      "<class 'pandas.core.frame.DataFrame'>\n",
      "DatetimeIndex: 1828 entries, 2011-04-24 to 2016-04-24\n",
      "Data columns (total 20 columns):\n",
      " #   Column        Non-Null Count  Dtype  \n",
      "---  ------        --------------  -----  \n",
      " 0   id            1828 non-null   object \n",
      " 1   item_id       1828 non-null   object \n",
      " 2   dept_id       1828 non-null   object \n",
      " 3   cat_id        1828 non-null   object \n",
      " 4   store_id      1828 non-null   object \n",
      " 5   state_id      1828 non-null   object \n",
      " 6   d             1828 non-null   object \n",
      " 7   sales         1828 non-null   float64\n",
      " 8   wm_yr_wk      1828 non-null   int64  \n",
      " 9   weekday       1828 non-null   object \n",
      " 10  wday          1828 non-null   int64  \n",
      " 11  month         1828 non-null   int64  \n",
      " 12  year          1828 non-null   int64  \n",
      " 13  event_name_1  1828 non-null   object \n",
      " 14  event_type_1  1828 non-null   object \n",
      " 15  event_name_2  1828 non-null   object \n",
      " 16  event_type_2  1828 non-null   object \n",
      " 17  snap_CA       1828 non-null   int64  \n",
      " 18  snap_TX       1828 non-null   int64  \n",
      " 19  snap_WI       1828 non-null   int64  \n",
      "dtypes: float64(1), int64(7), object(12)\n",
      "memory usage: 299.9+ KB\n"
     ]
    }
   ],
   "source": [
    "df.info()"
   ]
  },
  {
   "cell_type": "code",
   "execution_count": 17,
   "id": "b103c92e-2244-4b7c-907a-cca6f87bc437",
   "metadata": {},
   "outputs": [
    {
     "data": {
      "text/html": [
       "<div>\n",
       "<style scoped>\n",
       "    .dataframe tbody tr th:only-of-type {\n",
       "        vertical-align: middle;\n",
       "    }\n",
       "\n",
       "    .dataframe tbody tr th {\n",
       "        vertical-align: top;\n",
       "    }\n",
       "\n",
       "    .dataframe thead th {\n",
       "        text-align: right;\n",
       "    }\n",
       "</style>\n",
       "<table border=\"1\" class=\"dataframe\">\n",
       "  <thead>\n",
       "    <tr style=\"text-align: right;\">\n",
       "      <th></th>\n",
       "      <th>id</th>\n",
       "      <th>item_id</th>\n",
       "      <th>dept_id</th>\n",
       "      <th>cat_id</th>\n",
       "      <th>store_id</th>\n",
       "      <th>state_id</th>\n",
       "      <th>d</th>\n",
       "      <th>sales</th>\n",
       "      <th>wm_yr_wk</th>\n",
       "      <th>weekday</th>\n",
       "      <th>wday</th>\n",
       "      <th>month</th>\n",
       "      <th>year</th>\n",
       "      <th>event_name_1</th>\n",
       "      <th>event_type_1</th>\n",
       "      <th>event_name_2</th>\n",
       "      <th>event_type_2</th>\n",
       "      <th>snap_CA</th>\n",
       "      <th>snap_TX</th>\n",
       "      <th>snap_WI</th>\n",
       "    </tr>\n",
       "    <tr>\n",
       "      <th>date</th>\n",
       "      <th></th>\n",
       "      <th></th>\n",
       "      <th></th>\n",
       "      <th></th>\n",
       "      <th></th>\n",
       "      <th></th>\n",
       "      <th></th>\n",
       "      <th></th>\n",
       "      <th></th>\n",
       "      <th></th>\n",
       "      <th></th>\n",
       "      <th></th>\n",
       "      <th></th>\n",
       "      <th></th>\n",
       "      <th></th>\n",
       "      <th></th>\n",
       "      <th></th>\n",
       "      <th></th>\n",
       "      <th></th>\n",
       "      <th></th>\n",
       "    </tr>\n",
       "  </thead>\n",
       "  <tbody>\n",
       "    <tr>\n",
       "      <th>2011-04-24</th>\n",
       "      <td>HOBBIES_1_001_CA_1_validation</td>\n",
       "      <td>HOBBIES_1_001</td>\n",
       "      <td>HOBBIES_1</td>\n",
       "      <td>HOBBIES</td>\n",
       "      <td>CA_1</td>\n",
       "      <td>CA</td>\n",
       "      <td>d_86</td>\n",
       "      <td>0.0</td>\n",
       "      <td>11113</td>\n",
       "      <td>Sunday</td>\n",
       "      <td>2</td>\n",
       "      <td>4</td>\n",
       "      <td>2011</td>\n",
       "      <td>OrthodoxEaster</td>\n",
       "      <td>Religious</td>\n",
       "      <td>Easter</td>\n",
       "      <td>Cultural</td>\n",
       "      <td>0</td>\n",
       "      <td>0</td>\n",
       "      <td>0</td>\n",
       "    </tr>\n",
       "    <tr>\n",
       "      <th>2011-04-25</th>\n",
       "      <td>HOBBIES_1_001_CA_1_validation</td>\n",
       "      <td>HOBBIES_1_001</td>\n",
       "      <td>HOBBIES_1</td>\n",
       "      <td>HOBBIES</td>\n",
       "      <td>CA_1</td>\n",
       "      <td>CA</td>\n",
       "      <td>d_87</td>\n",
       "      <td>0.0</td>\n",
       "      <td>11113</td>\n",
       "      <td>Monday</td>\n",
       "      <td>3</td>\n",
       "      <td>4</td>\n",
       "      <td>2011</td>\n",
       "      <td>OrthodoxEaster</td>\n",
       "      <td>Religious</td>\n",
       "      <td>Easter</td>\n",
       "      <td>Cultural</td>\n",
       "      <td>0</td>\n",
       "      <td>0</td>\n",
       "      <td>0</td>\n",
       "    </tr>\n",
       "    <tr>\n",
       "      <th>2011-04-26</th>\n",
       "      <td>HOBBIES_1_001_CA_1_validation</td>\n",
       "      <td>HOBBIES_1_001</td>\n",
       "      <td>HOBBIES_1</td>\n",
       "      <td>HOBBIES</td>\n",
       "      <td>CA_1</td>\n",
       "      <td>CA</td>\n",
       "      <td>d_88</td>\n",
       "      <td>0.0</td>\n",
       "      <td>11113</td>\n",
       "      <td>Tuesday</td>\n",
       "      <td>4</td>\n",
       "      <td>4</td>\n",
       "      <td>2011</td>\n",
       "      <td>Pesach End</td>\n",
       "      <td>Religious</td>\n",
       "      <td>Easter</td>\n",
       "      <td>Cultural</td>\n",
       "      <td>0</td>\n",
       "      <td>0</td>\n",
       "      <td>0</td>\n",
       "    </tr>\n",
       "    <tr>\n",
       "      <th>2011-04-27</th>\n",
       "      <td>HOBBIES_1_001_CA_1_validation</td>\n",
       "      <td>HOBBIES_1_001</td>\n",
       "      <td>HOBBIES_1</td>\n",
       "      <td>HOBBIES</td>\n",
       "      <td>CA_1</td>\n",
       "      <td>CA</td>\n",
       "      <td>d_89</td>\n",
       "      <td>0.0</td>\n",
       "      <td>11113</td>\n",
       "      <td>Wednesday</td>\n",
       "      <td>5</td>\n",
       "      <td>4</td>\n",
       "      <td>2011</td>\n",
       "      <td>Pesach End</td>\n",
       "      <td>Religious</td>\n",
       "      <td>Easter</td>\n",
       "      <td>Cultural</td>\n",
       "      <td>0</td>\n",
       "      <td>0</td>\n",
       "      <td>0</td>\n",
       "    </tr>\n",
       "    <tr>\n",
       "      <th>2011-04-28</th>\n",
       "      <td>HOBBIES_1_001_CA_1_validation</td>\n",
       "      <td>HOBBIES_1_001</td>\n",
       "      <td>HOBBIES_1</td>\n",
       "      <td>HOBBIES</td>\n",
       "      <td>CA_1</td>\n",
       "      <td>CA</td>\n",
       "      <td>d_90</td>\n",
       "      <td>0.0</td>\n",
       "      <td>11113</td>\n",
       "      <td>Thursday</td>\n",
       "      <td>6</td>\n",
       "      <td>4</td>\n",
       "      <td>2011</td>\n",
       "      <td>Pesach End</td>\n",
       "      <td>Religious</td>\n",
       "      <td>Easter</td>\n",
       "      <td>Cultural</td>\n",
       "      <td>0</td>\n",
       "      <td>0</td>\n",
       "      <td>0</td>\n",
       "    </tr>\n",
       "  </tbody>\n",
       "</table>\n",
       "</div>"
      ],
      "text/plain": [
       "                                       id        item_id    dept_id   cat_id  \\\n",
       "date                                                                           \n",
       "2011-04-24  HOBBIES_1_001_CA_1_validation  HOBBIES_1_001  HOBBIES_1  HOBBIES   \n",
       "2011-04-25  HOBBIES_1_001_CA_1_validation  HOBBIES_1_001  HOBBIES_1  HOBBIES   \n",
       "2011-04-26  HOBBIES_1_001_CA_1_validation  HOBBIES_1_001  HOBBIES_1  HOBBIES   \n",
       "2011-04-27  HOBBIES_1_001_CA_1_validation  HOBBIES_1_001  HOBBIES_1  HOBBIES   \n",
       "2011-04-28  HOBBIES_1_001_CA_1_validation  HOBBIES_1_001  HOBBIES_1  HOBBIES   \n",
       "\n",
       "           store_id state_id     d  sales  wm_yr_wk    weekday  wday  month  \\\n",
       "date                                                                          \n",
       "2011-04-24     CA_1       CA  d_86    0.0     11113     Sunday     2      4   \n",
       "2011-04-25     CA_1       CA  d_87    0.0     11113     Monday     3      4   \n",
       "2011-04-26     CA_1       CA  d_88    0.0     11113    Tuesday     4      4   \n",
       "2011-04-27     CA_1       CA  d_89    0.0     11113  Wednesday     5      4   \n",
       "2011-04-28     CA_1       CA  d_90    0.0     11113   Thursday     6      4   \n",
       "\n",
       "            year    event_name_1 event_type_1 event_name_2 event_type_2  \\\n",
       "date                                                                      \n",
       "2011-04-24  2011  OrthodoxEaster    Religious       Easter     Cultural   \n",
       "2011-04-25  2011  OrthodoxEaster    Religious       Easter     Cultural   \n",
       "2011-04-26  2011      Pesach End    Religious       Easter     Cultural   \n",
       "2011-04-27  2011      Pesach End    Religious       Easter     Cultural   \n",
       "2011-04-28  2011      Pesach End    Religious       Easter     Cultural   \n",
       "\n",
       "            snap_CA  snap_TX  snap_WI  \n",
       "date                                   \n",
       "2011-04-24        0        0        0  \n",
       "2011-04-25        0        0        0  \n",
       "2011-04-26        0        0        0  \n",
       "2011-04-27        0        0        0  \n",
       "2011-04-28        0        0        0  "
      ]
     },
     "execution_count": 17,
     "metadata": {},
     "output_type": "execute_result"
    }
   ],
   "source": [
    "df.head()"
   ]
  },
  {
   "cell_type": "code",
   "execution_count": 18,
   "id": "bb8c7fb4-dee3-4c89-a79a-3fb18e05f83d",
   "metadata": {},
   "outputs": [
    {
     "name": "stdout",
     "output_type": "stream",
     "text": [
      "Number of outliers: 538\n"
     ]
    }
   ],
   "source": [
    "# Calculate IQR\n",
    "Q1 = df['sales'].quantile(0.25)\n",
    "Q3 = df['sales'].quantile(0.75)\n",
    "IQR = Q3 - Q1\n",
    "\n",
    "# Define outliers\n",
    "outliers = df[(df['sales'] < Q1 - 1.5 * IQR) | (df['sales'] > Q3 + 1.5 * IQR)]\n",
    "\n",
    "print(f'Number of outliers: {outliers.shape[0]}')\n"
   ]
  },
  {
   "cell_type": "code",
   "execution_count": 19,
   "id": "2229701d-d8a6-462f-81b7-e024df7b4664",
   "metadata": {},
   "outputs": [
    {
     "data": {
      "image/png": "[encoded data removed]",
      "text/plain": [
       "<Figure size 432x288 with 1 Axes>"
      ]
     },
     "metadata": {
      "needs_background": "light"
     },
     "output_type": "display_data"
    }
   ],
   "source": [
    "import matplotlib.pyplot as plt\n",
    "\n",
    "plt.boxplot(df['sales'])\n",
    "plt.show()\n"
   ]
  },
  {
   "cell_type": "code",
   "execution_count": 20,
   "id": "3f1e88ee-ea58-4114-94aa-d19ef85ef037",
   "metadata": {},
   "outputs": [],
   "source": [
    "from statsmodels.tsa.arima.model import ARIMA\n",
    "from sklearn.metrics import mean_squared_error\n",
    "from math import sqrt\n"
   ]
  },
  {
   "cell_type": "code",
   "execution_count": 21,
   "id": "2467aca2-5858-429b-a833-0edccc397389",
   "metadata": {},
   "outputs": [],
   "source": [
    "# Split into train and test sets\n",
    "size = int(len(df) * 0.8)\n",
    "train, test = df['sales'][0:size], df['sales'][size:len(df)]\n",
    "\n",
    "# Fit and predict\n",
    "history = [x for x in train]\n",
    "predictions = list()"
   ]
  },
  {
   "cell_type": "code",
   "execution_count": 23,
   "id": "37c90d7c-07f3-4257-97d7-405a17891ddf",
   "metadata": {},
   "outputs": [
    {
     "name": "stdout",
     "output_type": "stream",
     "text": [
      "Test RMSE: 1.2200205991342725\n"
     ]
    }
   ],
   "source": [
    "for t in range(len(test)):\n",
    "    model = ARIMA(history, order=(5,1,0))  # You might need to adjust the order parameters based on your data\n",
    "    model_fit = model.fit()\n",
    "    output = model_fit.forecast()\n",
    "    yhat = output[0]\n",
    "    predictions.append(yhat)\n",
    "    obs = test[t]\n",
    "    history.append(obs)\n",
    "    \n",
    "# Calculate RMSE\n",
    "rmse = sqrt(mean_squared_error(test, predictions))\n",
    "print(f'Test RMSE: {rmse}')"
   ]
  },
  {
   "cell_type": "code",
   "execution_count": 24,
   "id": "3d35f577-f1ec-4d97-bc48-868a25f2c5d6",
   "metadata": {},
   "outputs": [
    {
     "data": {
      "image/png": "[encoded data removed]",
      "text/plain": [
       "<Figure size 720x720 with 2 Axes>"
      ]
     },
     "metadata": {
      "needs_background": "light"
     },
     "output_type": "display_data"
    }
   ],
   "source": [
    "residuals = [test[i]-predictions[i] for i in range(len(test))]\n",
    "\n",
    "# Create subplot\n",
    "fig, ax = plt.subplots(2,1, figsize=(10,10))\n",
    "\n",
    "# Plot residuals\n",
    "ax[0].plot(residuals)\n",
    "ax[0].set_title('Residuals')\n",
    "ax[0].axhline(0, color='r', linestyle='--')  # This adds a horizontal line at zero on the residual plot\n",
    "\n",
    "# Plot histogram of residuals\n",
    "ax[1].hist(residuals, bins=20)\n",
    "ax[1].set_title('Histogram of Residuals')\n",
    "\n",
    "plt.tight_layout()\n",
    "plt.show()"
   ]
  },
  {
   "cell_type": "code",
   "execution_count": 25,
   "id": "e10c1812-213f-4ef6-8c9c-30fd10d9eb23",
   "metadata": {},
   "outputs": [
    {
     "name": "stdout",
     "output_type": "stream",
     "text": [
      "Test MAE: 0.896492500327735\n",
      "Test MAPE: inf%\n"
     ]
    }
   ],
   "source": [
    "from sklearn.metrics import mean_absolute_error\n",
    "import numpy as np\n",
    "\n",
    "# Compute MAE\n",
    "mae = mean_absolute_error(test, predictions)\n",
    "print(f'Test MAE: {mae}')"
   ]
  },
  {
   "cell_type": "code",
   "execution_count": 26,
   "id": "e76b4ba1-70da-4b5d-8dd1-b48da132aa4a",
   "metadata": {},
   "outputs": [
    {
     "name": "stdout",
     "output_type": "stream",
     "text": [
      "Test MAPE: inf%\n"
     ]
    }
   ],
   "source": [
    "# Compute MAPE\n",
    "mape = np.mean(np.abs((test - predictions) / test)) * 100\n",
    "print(f'Test MAPE: {mape}%')"
   ]
  },
  {
   "cell_type": "code",
   "execution_count": 27,
   "id": "270c7bae-a72c-4fa2-9e8a-6c1834e2e960",
   "metadata": {},
   "outputs": [
    {
     "data": {
      "text/plain": [
       "inf"
      ]
     },
     "execution_count": 27,
     "metadata": {},
     "output_type": "execute_result"
    }
   ],
   "source": [
    "mape"
   ]
  },
  {
   "cell_type": "code",
   "execution_count": 28,
   "id": "586af74f-a948-4bbc-8f73-528c6ae684c3",
   "metadata": {},
   "outputs": [
    {
     "data": {
      "text/plain": [
       "date\n",
       "2015-04-25    2.0\n",
       "2015-04-26   -2.0\n",
       "2015-04-27    1.0\n",
       "2015-04-28   -1.0\n",
       "2015-04-29    0.0\n",
       "             ... \n",
       "2016-04-20    0.0\n",
       "2016-04-21    2.0\n",
       "2016-04-22   -3.0\n",
       "2016-04-23    1.0\n",
       "2016-04-24    0.0\n",
       "Name: sales, Length: 366, dtype: float64"
      ]
     },
     "execution_count": 28,
     "metadata": {},
     "output_type": "execute_result"
    }
   ],
   "source": [
    "test"
   ]
  },
  {
   "cell_type": "code",
   "execution_count": 29,
   "id": "de66cae1-bcdb-4f92-846e-57909993c254",
   "metadata": {},
   "outputs": [
    {
     "name": "stdout",
     "output_type": "stream",
     "text": [
      "Test MAPE: 188110854261.43945%\n"
     ]
    }
   ],
   "source": [
    "epsilon = 1e-10  # Small constant to avoid division by zero\n",
    "mape = np.mean(np.abs((test - predictions) / (test + epsilon))) * 100\n",
    "print(f'Test MAPE: {mape}%')"
   ]
  },
  {
   "cell_type": "code",
   "execution_count": null,
   "id": "86429255-2e34-4f7d-80a5-0b9f1f813e96",
   "metadata": {},
   "outputs": [],
   "source": []
  }
 ],
 "metadata": {
  "kernelspec": {
   "display_name": "Python 3 (ipykernel)",
   "language": "python",
   "name": "python3"
  },
  "language_info": {
   "codemirror_mode": {
    "name": "ipython",
    "version": 3
   },
   "file_extension": ".py",
   "mimetype": "text/x-python",
   "name": "python",
   "nbconvert_exporter": "python",
   "pygments_lexer": "ipython3",
   "version": "3.8.12"
  }
 },
 "nbformat": 4,
 "nbformat_minor": 5
}
